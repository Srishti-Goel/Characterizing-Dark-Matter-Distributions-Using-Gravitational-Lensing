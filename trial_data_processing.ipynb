{
 "cells": [
  {
   "cell_type": "code",
   "execution_count": 18,
   "metadata": {},
   "outputs": [],
   "source": [
    "import pathlib\n",
    "import tensorflow as tf\n",
    "from PIL import Image\n",
    "import numpy as np\n",
    "\n",
    "from model.resnet import ResNet2"
   ]
  },
  {
   "cell_type": "code",
   "execution_count": 8,
   "metadata": {},
   "outputs": [
    {
     "name": "stdout",
     "output_type": "stream",
     "text": [
      "data_generation\\data\n",
      "98\n"
     ]
    }
   ],
   "source": [
    "data_dir = pathlib.Path('data_generation/data')\n",
    "print(data_dir)\n",
    "print(len(list(data_dir.glob('Isothermal/*.png'))))\n",
    "sim0s = list(data_dir.glob('Isothermal/*.png'))\n",
    "# Image.open(str(sim0s[0]))"
   ]
  },
  {
   "cell_type": "code",
   "execution_count": 14,
   "metadata": {},
   "outputs": [
    {
     "name": "stdout",
     "output_type": "stream",
     "text": [
      "Found 1326 files belonging to 8 classes.\n",
      "Using 1061 files for training.\n",
      "Found 1326 files belonging to 8 classes.\n",
      "Using 265 files for validation.\n",
      "['Chameleon', 'DeVaucoulers', 'Exponential', 'Gaussian', 'Isothermal', 'Massless', 'Sersic', 'gNFW']\n"
     ]
    }
   ],
   "source": [
    "BATCH_SIZE = 32\n",
    "IMG_HEIGHT = 512\n",
    "IMG_WIDTH = 512\n",
    "\n",
    "train_ds = tf.keras.utils.image_dataset_from_directory(\n",
    "    data_dir,\n",
    "    validation_split = 0.2,\n",
    "    subset = \"training\",\n",
    "    seed = 123,\n",
    "    image_size = (IMG_HEIGHT, IMG_WIDTH),\n",
    "    batch_size = BATCH_SIZE\n",
    ")\n",
    "\n",
    "val_ds = tf.keras.utils.image_dataset_from_directory(\n",
    "  data_dir,\n",
    "  validation_split = 0.2,\n",
    "  subset = \"validation\",\n",
    "  seed = 123,\n",
    "  image_size = (IMG_HEIGHT, IMG_WIDTH),\n",
    "  batch_size = BATCH_SIZE)\n",
    "class_names = train_ds.class_names\n",
    "print(class_names)"
   ]
  },
  {
   "cell_type": "code",
   "execution_count": 15,
   "metadata": {},
   "outputs": [
    {
     "name": "stdout",
     "output_type": "stream",
     "text": [
      "(32, 512, 512, 3)\n",
      "(32,)\n"
     ]
    }
   ],
   "source": [
    "for image_batch, labels_batch in train_ds:\n",
    "  print(image_batch.shape)\n",
    "  print(labels_batch.shape)\n",
    "  break"
   ]
  },
  {
   "cell_type": "code",
   "execution_count": 16,
   "metadata": {},
   "outputs": [
    {
     "name": "stdout",
     "output_type": "stream",
     "text": [
      "0.0 1.0\n"
     ]
    }
   ],
   "source": [
    "normalization_layer = tf.keras.layers.Rescaling(1./255)\n",
    "normalized_train_ds = train_ds.map(lambda x, y: (normalization_layer(x), y))\n",
    "normalized_val_ds = val_ds.map(lambda x, y: (normalization_layer(x), y))\n",
    "image_batch, labels_batch = next(iter(normalized_train_ds))\n",
    "first_image = image_batch[0]\n",
    "# Notice the pixel values are now in `[0,1]`.\n",
    "print(np.min(first_image), np.max(first_image))"
   ]
  },
  {
   "cell_type": "code",
   "execution_count": 17,
   "metadata": {},
   "outputs": [
    {
     "name": "stdout",
     "output_type": "stream",
     "text": [
      "Epoch 1/3\n",
      "34/34 [==============================] - 98s 3s/step - loss: 2.0954 - accuracy: 0.1310 - val_loss: 2.0644 - val_accuracy: 0.1660\n",
      "Epoch 2/3\n",
      "34/34 [==============================] - 96s 3s/step - loss: 2.0442 - accuracy: 0.1970 - val_loss: 2.1218 - val_accuracy: 0.1736\n",
      "Epoch 3/3\n",
      "34/34 [==============================] - 88s 3s/step - loss: 1.8281 - accuracy: 0.3553 - val_loss: 2.2536 - val_accuracy: 0.1736\n"
     ]
    },
    {
     "data": {
      "text/plain": [
       "<keras.callbacks.History at 0x2189925bdc0>"
      ]
     },
     "execution_count": 17,
     "metadata": {},
     "output_type": "execute_result"
    }
   ],
   "source": [
    "num_classes = 8\n",
    "\n",
    "model = tf.keras.Sequential([\n",
    "  tf.keras.layers.Conv2D(32, 3, activation='relu'),\n",
    "  tf.keras.layers.MaxPooling2D(),\n",
    "  tf.keras.layers.Conv2D(32, 3, activation='relu'),\n",
    "  tf.keras.layers.MaxPooling2D(),\n",
    "  tf.keras.layers.Conv2D(32, 3, activation='relu'),\n",
    "  tf.keras.layers.MaxPooling2D(),\n",
    "  tf.keras.layers.Flatten(),\n",
    "  tf.keras.layers.Dense(128, activation='relu'),\n",
    "  tf.keras.layers.Dense(num_classes)\n",
    "])\n",
    "\n",
    "# model = ResNet2(shape=(512,512,3), classes=10)\n",
    "\n",
    "# model = model.model\n",
    "\n",
    "model.compile(\n",
    "  optimizer='adam',\n",
    "  loss=tf.keras.losses.SparseCategoricalCrossentropy(from_logits=True),\n",
    "  metrics=['accuracy'])\n",
    "\n",
    "model.fit(\n",
    "  normalized_train_ds,\n",
    "  validation_data=normalized_val_ds,\n",
    "  epochs=3\n",
    ")"
   ]
  },
  {
   "cell_type": "code",
   "execution_count": 19,
   "metadata": {},
   "outputs": [
    {
     "name": "stdout",
     "output_type": "stream",
     "text": [
      "Epoch 1/3\n",
      "34/34 [==============================] - 509s 15s/step - loss: 46.8550 - accuracy: 0.1131 - val_loss: 542714.1875 - val_accuracy: 0.1396\n",
      "Epoch 2/3\n",
      "34/34 [==============================] - 504s 15s/step - loss: 4.7702 - accuracy: 0.1225 - val_loss: 541.0684 - val_accuracy: 0.0981\n",
      "Epoch 3/3\n",
      "34/34 [==============================] - 504s 15s/step - loss: 2.7786 - accuracy: 0.1395 - val_loss: 157.0589 - val_accuracy: 0.0792\n"
     ]
    },
    {
     "data": {
      "text/plain": [
       "<keras.callbacks.History at 0x2189949eb20>"
      ]
     },
     "execution_count": 19,
     "metadata": {},
     "output_type": "execute_result"
    }
   ],
   "source": [
    "model2 = ResNet2(shape=(512,512,3), classes=10).model\n",
    "\n",
    "model2.compile(\n",
    "  optimizer='adam',\n",
    "  loss=tf.keras.losses.SparseCategoricalCrossentropy(from_logits=True),\n",
    "  metrics=['accuracy'])\n",
    "\n",
    "model2.fit(\n",
    "  train_ds,\n",
    "  validation_data=val_ds,\n",
    "  epochs=3\n",
    ")"
   ]
  },
  {
   "cell_type": "code",
   "execution_count": 20,
   "metadata": {},
   "outputs": [
    {
     "name": "stdout",
     "output_type": "stream",
     "text": [
      "Epoch 1/3\n",
      "34/34 [==============================] - 100s 3s/step - loss: 2.7262 - accuracy: 0.1433 - val_loss: 2.0788 - val_accuracy: 0.1585\n",
      "Epoch 2/3\n",
      "34/34 [==============================] - 93s 3s/step - loss: 2.0734 - accuracy: 0.1960 - val_loss: 2.0928 - val_accuracy: 0.1472\n",
      "Epoch 3/3\n",
      "34/34 [==============================] - 85s 2s/step - loss: 2.0114 - accuracy: 0.3393 - val_loss: 2.1847 - val_accuracy: 0.1660\n"
     ]
    },
    {
     "data": {
      "text/plain": [
       "<keras.callbacks.History at 0x2189974cb50>"
      ]
     },
     "execution_count": 20,
     "metadata": {},
     "output_type": "execute_result"
    }
   ],
   "source": [
    "num_classes = 8\n",
    "\n",
    "model3 = tf.keras.Sequential([\n",
    "  tf.keras.layers.Conv2D(32, 3, activation='relu'),\n",
    "  tf.keras.layers.MaxPooling2D(),\n",
    "  tf.keras.layers.Conv2D(32, 3, activation='relu'),\n",
    "  tf.keras.layers.MaxPooling2D(),\n",
    "  tf.keras.layers.Flatten(),\n",
    "  tf.keras.layers.Dense(128, activation='relu'),\n",
    "  tf.keras.layers.Dense(num_classes)\n",
    "])\n",
    "\n",
    "# model = ResNet2(shape=(512,512,3), classes=10)\n",
    "\n",
    "# model = model.model\n",
    "\n",
    "model3.compile(\n",
    "  optimizer='adam',\n",
    "  loss=tf.keras.losses.SparseCategoricalCrossentropy(from_logits=True),\n",
    "  metrics=['accuracy'])\n",
    "\n",
    "model3.fit(\n",
    "  normalized_train_ds,\n",
    "  validation_data=normalized_val_ds,\n",
    "  epochs=3\n",
    ")"
   ]
  },
  {
   "cell_type": "code",
   "execution_count": 21,
   "metadata": {},
   "outputs": [
    {
     "name": "stdout",
     "output_type": "stream",
     "text": [
      "Epoch 1/3\n",
      "34/34 [==============================] - 94s 3s/step - loss: 2.0858 - accuracy: 0.1574 - val_loss: 2.0791 - val_accuracy: 0.1208\n",
      "Epoch 2/3\n",
      "34/34 [==============================] - 88s 3s/step - loss: 2.0529 - accuracy: 0.2074 - val_loss: 2.1653 - val_accuracy: 0.1774\n",
      "Epoch 3/3\n",
      "34/34 [==============================] - 86s 3s/step - loss: 1.9484 - accuracy: 0.2828 - val_loss: 2.1029 - val_accuracy: 0.1736\n"
     ]
    },
    {
     "data": {
      "text/plain": [
       "<keras.callbacks.History at 0x218992cfc10>"
      ]
     },
     "execution_count": 21,
     "metadata": {},
     "output_type": "execute_result"
    }
   ],
   "source": [
    "num_classes = 8\n",
    "\n",
    "model4 = tf.keras.Sequential([\n",
    "  tf.keras.layers.Conv2D(32, 3, activation='relu'),\n",
    "  tf.keras.layers.MaxPooling2D(),\n",
    "  tf.keras.layers.Conv2D(32, 3, activation='relu'),\n",
    "  tf.keras.layers.MaxPooling2D(),\n",
    "  \n",
    "  tf.keras.layers.Conv2D(32, 3, activation='relu'),\n",
    "  tf.keras.layers.MaxPooling2D(),\n",
    "  \n",
    "  tf.keras.layers.Conv2D(32, 3, activation='relu'),\n",
    "  tf.keras.layers.MaxPooling2D(),\n",
    "  \n",
    "  tf.keras.layers.Flatten(),\n",
    "  tf.keras.layers.Dense(128, activation='relu'),\n",
    "  \n",
    "  tf.keras.layers.Dense(num_classes)\n",
    "])\n",
    "\n",
    "# model = ResNet2(shape=(512,512,3), classes=10)\n",
    "\n",
    "# model = model.model\n",
    "\n",
    "model4.compile(\n",
    "  optimizer='adam',\n",
    "  loss=tf.keras.losses.SparseCategoricalCrossentropy(from_logits=True),\n",
    "  metrics=['accuracy'])\n",
    "\n",
    "model4.fit(\n",
    "  normalized_train_ds,\n",
    "  validation_data=normalized_val_ds,\n",
    "  epochs=3\n",
    ")"
   ]
  },
  {
   "cell_type": "code",
   "execution_count": null,
   "metadata": {},
   "outputs": [],
   "source": []
  }
 ],
 "metadata": {
  "kernelspec": {
   "display_name": "base",
   "language": "python",
   "name": "python3"
  },
  "language_info": {
   "codemirror_mode": {
    "name": "ipython",
    "version": 3
   },
   "file_extension": ".py",
   "mimetype": "text/x-python",
   "name": "python",
   "nbconvert_exporter": "python",
   "pygments_lexer": "ipython3",
   "version": "3.8.5"
  },
  "orig_nbformat": 4,
  "vscode": {
   "interpreter": {
    "hash": "6f5583cf1d9466b5c27e75c89cc6b383bed5736d6b16c51c8074d8690011a952"
   }
  }
 },
 "nbformat": 4,
 "nbformat_minor": 2
}
